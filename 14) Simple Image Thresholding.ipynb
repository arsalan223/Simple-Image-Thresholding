{
 "cells": [
  {
   "cell_type": "code",
   "execution_count": 1,
   "metadata": {},
   "outputs": [],
   "source": [
    "import cv2 as cv"
   ]
  },
  {
   "cell_type": "markdown",
   "metadata": {},
   "source": [
    "# Simple Thresholding"
   ]
  },
  {
   "cell_type": "code",
   "execution_count": 28,
   "metadata": {},
   "outputs": [],
   "source": [
    "img  = cv.imread('gradient.png')\n",
    "#this simple thresholding can only be applied with grayscale images (due to different channel values & luminance)\n",
    "_, thresh1 = cv.threshold(img, 127, 100, cv.THRESH_BINARY) #values less than threshold becomes 0 & values greater than threshold will assigned max_value, arg1=src, arg2=thresh_value, arg3=max_value(set in output image), arg4= type of thresholding.\n",
    "_, thresh2 = cv.threshold(img, 127, 255, cv.THRESH_BINARY_INV) #inverse of above\n",
    "_, thresh3 = cv.threshold(img, 127, 255, cv.THRESH_TOZERO) #vlaues less than threshold becomes 0 (others remain unchanged)\n",
    "_, thresh4 = cv.threshold(img, 127, 255, cv.THRESH_TOZERO_INV) #vlaues greater than threshold becomes 0 (others remain unchanged)\n",
    "_, thresh5 = cv.threshold(img, 127, 255, cv.THRESH_TRUNC) #all values greater than threshold will assigned same values as threshold\n",
    "\n",
    "cv.imshow('img', img)\n",
    "cv.imshow('binary', thresh1)\n",
    "cv.imshow('binary_inverse', thresh2)\n",
    "cv.imshow('toZero', thresh3)\n",
    "cv.imshow('toZero_inverse', thresh4)\n",
    "cv.imshow('trunc', thresh5)\n",
    "cv.waitKey(0)\n",
    "cv.destroyAllWindows()"
   ]
  },
  {
   "cell_type": "code",
   "execution_count": null,
   "metadata": {},
   "outputs": [],
   "source": []
  }
 ],
 "metadata": {
  "kernelspec": {
   "display_name": "Python 3",
   "language": "python",
   "name": "python3"
  },
  "language_info": {
   "codemirror_mode": {
    "name": "ipython",
    "version": 3
   },
   "file_extension": ".py",
   "mimetype": "text/x-python",
   "name": "python",
   "nbconvert_exporter": "python",
   "pygments_lexer": "ipython3",
   "version": "3.8.1"
  }
 },
 "nbformat": 4,
 "nbformat_minor": 4
}
